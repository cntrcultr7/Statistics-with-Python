{
 "cells": [
  {
   "cell_type": "markdown",
   "metadata": {},
   "source": [
    "                                                                                                            Anthony Kuey\n",
    "# PROBLEM STATEMENT (Pre & Post Test)\n",
    "\n",
    "Sistolic blood pressure (SBP) was measured before and after an experimental treatment. We want to know if the SBP decreased on average from the SBP prior to treatment."
   ]
  },
  {
   "cell_type": "markdown",
   "metadata": {},
   "source": [
    "### **Contents:**<br>\n",
    ">**Paired T-Test**\n",
    "1. [Visualizing Effect Size](#es)<br>\n",
    "2. [Execute Hypothesis Test](#hyp)\n",
    "\n",
    ">**Non-Parametric Wilcoxon Signed-Rank Test**\n",
    "1. [Hypothesis Test](#wsr)"
   ]
  },
  {
   "cell_type": "markdown",
   "metadata": {},
   "source": [
    "## Paired T-Test"
   ]
  },
  {
   "cell_type": "code",
   "execution_count": 14,
   "metadata": {},
   "outputs": [],
   "source": [
    "import pandas as pd\n",
    "import numpy as np\n",
    "import matplotlib as mpl\n",
    "from matplotlib import pyplot as plt\n",
    "from scipy import stats"
   ]
  },
  {
   "cell_type": "code",
   "execution_count": 15,
   "metadata": {},
   "outputs": [
    {
     "data": {
      "text/html": [
       "<div>\n",
       "<style scoped>\n",
       "    .dataframe tbody tr th:only-of-type {\n",
       "        vertical-align: middle;\n",
       "    }\n",
       "\n",
       "    .dataframe tbody tr th {\n",
       "        vertical-align: top;\n",
       "    }\n",
       "\n",
       "    .dataframe thead th {\n",
       "        text-align: right;\n",
       "    }\n",
       "</style>\n",
       "<table border=\"1\" class=\"dataframe\">\n",
       "  <thead>\n",
       "    <tr style=\"text-align: right;\">\n",
       "      <th></th>\n",
       "      <th>Before</th>\n",
       "      <th>After</th>\n",
       "    </tr>\n",
       "    <tr>\n",
       "      <th>Subject</th>\n",
       "      <th></th>\n",
       "      <th></th>\n",
       "    </tr>\n",
       "  </thead>\n",
       "  <tbody>\n",
       "    <tr>\n",
       "      <th>1</th>\n",
       "      <td>135</td>\n",
       "      <td>127</td>\n",
       "    </tr>\n",
       "    <tr>\n",
       "      <th>2</th>\n",
       "      <td>142</td>\n",
       "      <td>145</td>\n",
       "    </tr>\n",
       "    <tr>\n",
       "      <th>3</th>\n",
       "      <td>137</td>\n",
       "      <td>131</td>\n",
       "    </tr>\n",
       "    <tr>\n",
       "      <th>4</th>\n",
       "      <td>122</td>\n",
       "      <td>125</td>\n",
       "    </tr>\n",
       "    <tr>\n",
       "      <th>5</th>\n",
       "      <td>147</td>\n",
       "      <td>132</td>\n",
       "    </tr>\n",
       "  </tbody>\n",
       "</table>\n",
       "</div>"
      ],
      "text/plain": [
       "         Before  After\n",
       "Subject               \n",
       "1           135    127\n",
       "2           142    145\n",
       "3           137    131\n",
       "4           122    125\n",
       "5           147    132"
      ]
     },
     "execution_count": 15,
     "metadata": {},
     "output_type": "execute_result"
    }
   ],
   "source": [
    "file = 'BloodPressure.txt'\n",
    "\n",
    "df = pd.read_csv(file, sep='\\t', index_col='Subject')\n",
    "df.head()"
   ]
  },
  {
   "cell_type": "code",
   "execution_count": 94,
   "metadata": {},
   "outputs": [
    {
     "name": "stdout",
     "output_type": "stream",
     "text": [
      "         Before  After  diff  rank\n",
      "Subject                           \n",
      "1           135    127    -8  12.5\n",
      "2           142    145     3  22.5\n",
      "3           137    131    -6  14.5\n",
      "4           122    125     3  22.5\n",
      "5           147    132   -15   6.0\n",
      "\n",
      "The average difference of SBP pre to post treatment is -8.0\n",
      "\n",
      "The individual differences on average move 2.06 units from d_hat\n"
     ]
    }
   ],
   "source": [
    "#Add column calculating different between pre-post treatment\n",
    "df['diff'] = df['After'] - df['Before']\n",
    "\n",
    "#State the average difference pre/post treatment\n",
    "d_hat = df['diff'].mean()\n",
    "sem = df['diff'].sem() #standard error of sample\n",
    "\n",
    "#Describe sample\n",
    "print(df.head())\n",
    "print(f'\\nThe average difference of SBP pre to post treatment is {d_hat}')\n",
    "print(f'\\nThe individual differences on average move {sem:.2f} units from d_hat')"
   ]
  },
  {
   "cell_type": "markdown",
   "metadata": {},
   "source": [
    "### Visualize the effect size <a class=\"anchor\" id=\"es\"></a>\n",
    "We can visualize the effect using:\n",
    ">1) Boxplots\n",
    "<br>2) Scatter plot w/ 45degree line (x=y) : If the majority of points fall to the right of the line, this is a visual cue that there has been an effect"
   ]
  },
  {
   "cell_type": "markdown",
   "metadata": {},
   "source": [
    "#1"
   ]
  },
  {
   "cell_type": "code",
   "execution_count": 36,
   "metadata": {},
   "outputs": [
    {
     "ename": "TypeError",
     "evalue": "'Text' object is not callable",
     "output_type": "error",
     "traceback": [
      "\u001b[1;31m---------------------------------------------------------------------------\u001b[0m",
      "\u001b[1;31mTypeError\u001b[0m                                 Traceback (most recent call last)",
      "\u001b[1;32m<ipython-input-36-09a5100331ca>\u001b[0m in \u001b[0;36m<module>\u001b[1;34m\u001b[0m\n\u001b[0;32m      1\u001b[0m \u001b[0mdf\u001b[0m\u001b[1;33m[\u001b[0m\u001b[1;33m[\u001b[0m\u001b[1;34m'Before'\u001b[0m\u001b[1;33m,\u001b[0m \u001b[1;34m'After'\u001b[0m\u001b[1;33m]\u001b[0m\u001b[1;33m]\u001b[0m\u001b[1;33m.\u001b[0m\u001b[0mplot\u001b[0m\u001b[1;33m(\u001b[0m\u001b[0mkind\u001b[0m\u001b[1;33m=\u001b[0m\u001b[1;34m'box'\u001b[0m\u001b[1;33m)\u001b[0m\u001b[1;33m\u001b[0m\u001b[1;33m\u001b[0m\u001b[0m\n\u001b[0;32m      2\u001b[0m \u001b[1;33m\u001b[0m\u001b[0m\n\u001b[1;32m----> 3\u001b[1;33m \u001b[0mplt\u001b[0m\u001b[1;33m.\u001b[0m\u001b[0mtitle\u001b[0m\u001b[1;33m(\u001b[0m\u001b[1;34m'SBP Before & After Treatment'\u001b[0m\u001b[1;33m)\u001b[0m\u001b[1;33m\u001b[0m\u001b[1;33m\u001b[0m\u001b[0m\n\u001b[0m\u001b[0;32m      4\u001b[0m \u001b[1;31m# plt.show()\u001b[0m\u001b[1;33m\u001b[0m\u001b[1;33m\u001b[0m\u001b[1;33m\u001b[0m\u001b[0m\n",
      "\u001b[1;31mTypeError\u001b[0m: 'Text' object is not callable"
     ]
    },
    {
     "data": {
      "image/png": "[encoded data removed]",
      "text/plain": [
       "<Figure size 432x288 with 1 Axes>"
      ]
     },
     "metadata": {
      "needs_background": "light"
     },
     "output_type": "display_data"
    }
   ],
   "source": [
    "df[['Before', 'After']].plot(kind='box')\n",
    "\n",
    "plt.title('SBP Before & After Treatment')\n",
    "plt.show()"
   ]
  },
  {
   "cell_type": "markdown",
   "metadata": {},
   "source": [
    "#2"
   ]
  },
  {
   "cell_type": "code",
   "execution_count": 18,
   "metadata": {},
   "outputs": [],
   "source": [
    "#Create function to add arbitrary line of choosing to plot (not native to matplotlib)\n",
    "def abline(slope, intercept):\n",
    "    \"\"\"Plot a line from slope and intercept\"\"\"\n",
    "    axes = plt.gca()\n",
    "    x_vals = np.array(axes.get_xlim())\n",
    "    y_vals = intercept + slope * x_vals\n",
    "    plt.plot(x_vals, y_vals, '--')"
   ]
  },
  {
   "cell_type": "code",
   "execution_count": 19,
   "metadata": {},
   "outputs": [
    {
     "data": {
      "image/png": "[encoded data removed]",
      "text/plain": [
       "<Figure size 432x288 with 1 Axes>"
      ]
     },
     "metadata": {
      "needs_background": "light"
     },
     "output_type": "display_data"
    }
   ],
   "source": [
    "#Plot Scatter\n",
    "df.plot(kind='scatter', x='Before', y='After')\n",
    "\n",
    "#add 45degree line, x=y\n",
    "abline(1, 0)"
   ]
  },
  {
   "cell_type": "markdown",
   "metadata": {},
   "source": [
    "### **Hypothesis Test** <a class=\"anchor\" id=\"hyp\"></a>\n",
    "\n",
    "Ho: There is no difference in mean SBP \n",
    "<br><br>$M_b - M_a = 0$\n",
    "\n",
    "<br>Ha: SBP after treatment is lower than before treatment \n",
    "<br><br>$M_a < M_b$\n",
    "<br><br>$\\alpha=.05$"
   ]
  },
  {
   "cell_type": "markdown",
   "metadata": {},
   "source": [
    "**Python Paired Sample T-test using SciPy**"
   ]
  },
  {
   "cell_type": "code",
   "execution_count": 20,
   "metadata": {},
   "outputs": [
    {
     "name": "stdout",
     "output_type": "stream",
     "text": [
      "Test Statistic=-3.89, Pvalue=0.00070\n"
     ]
    }
   ],
   "source": [
    "from scipy.stats import ttest_rel\n",
    "\n",
    "#Pyton paired sample t-test\n",
    "t_stat, p_value = ttest_rel(df.After, df.Before)\n",
    "print(f'Test Statistic={t_stat:.2f}, Pvalue={p_value:.5f}')"
   ]
  },
  {
   "cell_type": "code",
   "execution_count": 21,
   "metadata": {},
   "outputs": [
    {
     "data": {
      "text/html": [
       "<div>\n",
       "<style scoped>\n",
       "    .dataframe tbody tr th:only-of-type {\n",
       "        vertical-align: middle;\n",
       "    }\n",
       "\n",
       "    .dataframe tbody tr th {\n",
       "        vertical-align: top;\n",
       "    }\n",
       "\n",
       "    .dataframe thead th {\n",
       "        text-align: right;\n",
       "    }\n",
       "</style>\n",
       "<table border=\"1\" class=\"dataframe\">\n",
       "  <thead>\n",
       "    <tr style=\"text-align: right;\">\n",
       "      <th></th>\n",
       "      <th>T</th>\n",
       "      <th>dof</th>\n",
       "      <th>tail</th>\n",
       "      <th>p-val</th>\n",
       "      <th>CI95%</th>\n",
       "      <th>cohen-d</th>\n",
       "      <th>BF10</th>\n",
       "      <th>power</th>\n",
       "    </tr>\n",
       "  </thead>\n",
       "  <tbody>\n",
       "    <tr>\n",
       "      <th>T-test</th>\n",
       "      <td>-3.888201</td>\n",
       "      <td>24</td>\n",
       "      <td>two-sided</td>\n",
       "      <td>0.000699</td>\n",
       "      <td>[-12.25, -3.75]</td>\n",
       "      <td>0.79966</td>\n",
       "      <td>47.601</td>\n",
       "      <td>0.969519</td>\n",
       "    </tr>\n",
       "  </tbody>\n",
       "</table>\n",
       "</div>"
      ],
      "text/plain": [
       "               T  dof       tail     p-val            CI95%  cohen-d    BF10  \\\n",
       "T-test -3.888201   24  two-sided  0.000699  [-12.25, -3.75]  0.79966  47.601   \n",
       "\n",
       "           power  \n",
       "T-test  0.969519  "
      ]
     },
     "execution_count": 21,
     "metadata": {},
     "output_type": "execute_result"
    }
   ],
   "source": [
    "#Use Pingouin library to get confidence interval\n",
    "import pingouin as pt\n",
    "\n",
    "pt.ttest(df.After, df.Before, paired=True)"
   ]
  },
  {
   "cell_type": "markdown",
   "metadata": {},
   "source": [
    "**Reporting Results from Paired T-Test:**"
   ]
  },
  {
   "cell_type": "code",
   "execution_count": 22,
   "metadata": {},
   "outputs": [
    {
     "name": "stdout",
     "output_type": "stream",
     "text": [
      "Before treatment, patients had an average SBP of 138.28 and SE=2.34, post treatment mean SBP=130.28 with a SE=1.59\n",
      "\n",
      "The average difference after treatment of -8.00 with a low p-value of 0.00070 suggests that the observed difference in SBP is significant & unlikely due to chance\n"
     ]
    }
   ],
   "source": [
    "print('Before treatment, patients had an average SBP of {} and SE={:.2f}, post treatment mean SBP={} with a SE={:.2f}'.format(df['Before'].mean(), df['Before'].sem(), df['After'].mean(), df['After'].sem()))\n",
    "print(f'\\nThe average difference after treatment of {d_hat:.2f} with a low p-value of {p_value:.5f} suggests that the observed difference in SBP is significant & unlikely due to chance')"
   ]
  },
  {
   "cell_type": "markdown",
   "metadata": {},
   "source": [
    "### INTERPRETATION NOTES:\n",
    "\n",
    "**Interpreting Cohen’s D**\n",
    "<br>Normally, we interpret Cohen’s D  in terms of the relative strength of e.g. the treatment. Cohen (1988) suggested that d=0.2 is a ‘small’ effect size, 0.5 is a ‘medium’ effect size, and that 0.8 is a ‘large’ effect size. Thus, if two groups' means don’t differ by 0.2 standard deviations or more, the difference may be trivial, even if it is statistically significant."
   ]
  },
  {
   "cell_type": "markdown",
   "metadata": {},
   "source": [
    "***\n",
    "SCRAPS - Mechanical (Conceptual) Walkthrough"
   ]
  },
  {
   "cell_type": "code",
   "execution_count": 23,
   "metadata": {},
   "outputs": [],
   "source": [
    "def test_statistic(d_hat, se): return (d_hat - 0) / se"
   ]
  },
  {
   "cell_type": "code",
   "execution_count": 24,
   "metadata": {},
   "outputs": [],
   "source": [
    "#Calculate average difference in SBP before/after treatment\n",
    "d_hat = df['diff'].mean()\n",
    "\n",
    "#Calculate the standard error of those differences\n",
    "se = df['diff'].sem(axis=0)\n",
    "\n",
    "#Calculate the test-statistic to convert the observed average difference in terms of Standard Errors\n",
    "t_stat = test_statistic(d_hat, se) "
   ]
  },
  {
   "cell_type": "code",
   "execution_count": 25,
   "metadata": {},
   "outputs": [
    {
     "data": {
      "text/plain": [
       "-3.888201414050007"
      ]
     },
     "execution_count": 25,
     "metadata": {},
     "output_type": "execute_result"
    }
   ],
   "source": [
    "t_stat"
   ]
  },
  {
   "cell_type": "markdown",
   "metadata": {},
   "source": [
    "## Wilcoxon Signed-Rank Test <a class=\"anchor\" id=\"wsr\"></a>\n",
    "Testing Median difference in SBP\n",
    "\n",
    "**Key Points:** \n",
    " - Pros:<ui>\n",
    "1. No need to assume normality (normal dist)\n",
    "2. Large sample size N not required\n",
    "<br><br>\n",
    " - Cons:\n",
    "1. Less power than parametric approach\n",
    "\n",
    "***Notes from researchgate.net***:<br>\n",
    "*The reason for choosing a Wilcoxon signed-ranks sum test over a dependent t-test would typically be that: (a) you can't assume that your data are of interval strength/scale (or better); and/or (b) you can't assume that your data are normally distributed.<br><br>\n",
    "If condition (a) is the case, then medians would be preferred over means as the pre-post values to use.  Even if only condition (b) is the case, medians are a more robust indicator of central tendency (and less sensitive to extreme scores), so medians are probably a better choice than means.*"
   ]
  },
  {
   "cell_type": "code",
   "execution_count": 81,
   "metadata": {},
   "outputs": [
    {
     "data": {
      "text/html": [
       "<div>\n",
       "<style scoped>\n",
       "    .dataframe tbody tr th:only-of-type {\n",
       "        vertical-align: middle;\n",
       "    }\n",
       "\n",
       "    .dataframe tbody tr th {\n",
       "        vertical-align: top;\n",
       "    }\n",
       "\n",
       "    .dataframe thead th {\n",
       "        text-align: right;\n",
       "    }\n",
       "</style>\n",
       "<table border=\"1\" class=\"dataframe\">\n",
       "  <thead>\n",
       "    <tr style=\"text-align: right;\">\n",
       "      <th></th>\n",
       "      <th>Before</th>\n",
       "      <th>After</th>\n",
       "      <th>diff</th>\n",
       "      <th>rank</th>\n",
       "    </tr>\n",
       "    <tr>\n",
       "      <th>Subject</th>\n",
       "      <th></th>\n",
       "      <th></th>\n",
       "      <th></th>\n",
       "      <th></th>\n",
       "    </tr>\n",
       "  </thead>\n",
       "  <tbody>\n",
       "    <tr>\n",
       "      <th>1</th>\n",
       "      <td>135</td>\n",
       "      <td>127</td>\n",
       "      <td>-8</td>\n",
       "      <td>12.5</td>\n",
       "    </tr>\n",
       "    <tr>\n",
       "      <th>2</th>\n",
       "      <td>142</td>\n",
       "      <td>145</td>\n",
       "      <td>3</td>\n",
       "      <td>22.5</td>\n",
       "    </tr>\n",
       "    <tr>\n",
       "      <th>3</th>\n",
       "      <td>137</td>\n",
       "      <td>131</td>\n",
       "      <td>-6</td>\n",
       "      <td>14.5</td>\n",
       "    </tr>\n",
       "    <tr>\n",
       "      <th>4</th>\n",
       "      <td>122</td>\n",
       "      <td>125</td>\n",
       "      <td>3</td>\n",
       "      <td>22.5</td>\n",
       "    </tr>\n",
       "    <tr>\n",
       "      <th>5</th>\n",
       "      <td>147</td>\n",
       "      <td>132</td>\n",
       "      <td>-15</td>\n",
       "      <td>6.0</td>\n",
       "    </tr>\n",
       "  </tbody>\n",
       "</table>\n",
       "</div>"
      ],
      "text/plain": [
       "         Before  After  diff  rank\n",
       "Subject                           \n",
       "1           135    127    -8  12.5\n",
       "2           142    145     3  22.5\n",
       "3           137    131    -6  14.5\n",
       "4           122    125     3  22.5\n",
       "5           147    132   -15   6.0"
      ]
     },
     "execution_count": 81,
     "metadata": {},
     "output_type": "execute_result"
    }
   ],
   "source": [
    "#Create rank col\n",
    "df['rank'] = df['diff'].rank()\n",
    "df.head()"
   ]
  },
  {
   "cell_type": "code",
   "execution_count": 80,
   "metadata": {},
   "outputs": [
    {
     "name": "stdout",
     "output_type": "stream",
     "text": [
      "If the before & after groups belonged to the same distribution / were not stochastically different then we'd expect the\n",
      "sum of their ranks by differences in medians to be split 50/50\n",
      "\n",
      "We'd expect the sum of ranks for positive changes to be 150.0 and 150.0 for negative\n",
      "\n",
      "However, we observed a sum of 135.0 for + differences and 171.0 for - differences. What's the likelihood\n",
      "of this occurring if the Null were true.\n"
     ]
    }
   ],
   "source": [
    "#Assign Variables\n",
    "pos = np.where(df['diff'] > 0, 1, 0).sum()\n",
    "neg = np.where(df['diff'] < 0, 1, 0).sum()\n",
    "expect = np.arange(df.shape[0]).sum()\n",
    "obs_pos = np.where(df['diff'] > 0, df['rank'], 0).sum()\n",
    "obs_neg = np.where(df['diff'] < 0, df['rank'], 0).sum()\n",
    "\n",
    "print(\"If the before & after groups belonged to the same distribution / were not stochastically different then we'd expect the\\nsum of their ranks by differences in medians to be split 50/50\")\n",
    "print(f\"\\nWe'd expect the sum of ranks for positive changes to be {expect/2} and {expect/2} for negative\")\n",
    "print(f\"\\nHowever, we observed a sum of {obs_pos} for + differences and {obs_neg} for - differences. What's the likelihood\\nof this occurring if the Null were true.\")"
   ]
  },
  {
   "cell_type": "markdown",
   "metadata": {},
   "source": [
    "#### **Hypothesis Test** \n",
    "\n",
    "Ho: There is no difference in **median** SBP \n",
    "<br><br>$Med_b - Med_a = 0$\n",
    "\n",
    "<br>Ha: The **median** SBP after treatment is lower than before treatment \n",
    "<br><br>$Med_a < Med_b$\n",
    "<br><br>$\\alpha=.05$\n"
   ]
  },
  {
   "cell_type": "code",
   "execution_count": 90,
   "metadata": {},
   "outputs": [
    {
     "data": {
      "text/plain": [
       "<matplotlib.axes._subplots.AxesSubplot at 0x2eb7d62db88>"
      ]
     },
     "execution_count": 90,
     "metadata": {},
     "output_type": "execute_result"
    },
    {
     "data": {
      "image/png": "[encoded data removed]",
      "text/plain": [
       "<Figure size 432x288 with 1 Axes>"
      ]
     },
     "metadata": {
      "needs_background": "light"
     },
     "output_type": "display_data"
    }
   ],
   "source": [
    "#Repeat visual association b/t SBP before vs after\n",
    "df[['Before', 'After']].plot(kind='box')"
   ]
  },
  {
   "cell_type": "code",
   "execution_count": 99,
   "metadata": {},
   "outputs": [
    {
     "data": {
      "text/plain": [
       "WilcoxonResult(statistic=33.0, pvalue=0.0008220918692306016)"
      ]
     },
     "execution_count": 99,
     "metadata": {},
     "output_type": "execute_result"
    }
   ],
   "source": [
    "#Run Wilcoxon Signed-Rank Test\n",
    "#When there are ties in ranks or differences of 0, wilcoxon cannot perform exact p-value and will use apprx\n",
    "stats.wilcoxon(df['Before'], df['After'], alternative='two-sided', correction=False) #correct=continuity correction y/n"
   ]
  },
  {
   "cell_type": "markdown",
   "metadata": {},
   "source": [
    "**Conclusion:** We observe a statistifcally significant result whereby we have an extremely low p-value in relation to our alpha threshold of .05. Therefore we have evidence against the null and will reject it."
   ]
  },
  {
   "cell_type": "code",
   "execution_count": null,
   "metadata": {},
   "outputs": [],
   "source": []
  }
 ],
 "metadata": {
  "kernelspec": {
   "display_name": "Python 3",
   "language": "python",
   "name": "python3"
  },
  "language_info": {
   "codemirror_mode": {
    "name": "ipython",
    "version": 3
   },
   "file_extension": ".py",
   "mimetype": "text/x-python",
   "name": "python",
   "nbconvert_exporter": "python",
   "pygments_lexer": "ipython3",
   "version": "3.7.6"
  }
 },
 "nbformat": 4,
 "nbformat_minor": 4
}
